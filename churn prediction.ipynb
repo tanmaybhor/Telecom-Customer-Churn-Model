{
 "cells": [
  {
   "cell_type": "markdown",
   "id": "abf953e8",
   "metadata": {},
   "source": [
    "# import libraries\n"
   ]
  },
  {
   "cell_type": "code",
   "execution_count": 1,
   "id": "f678f670",
   "metadata": {},
   "outputs": [],
   "source": [
    "import pandas as pd\n",
    "import numpy as np\n",
    "import matplotlib.pyplot as plt\n",
    "import seaborn as sns\n",
    "%matplotlib inline"
   ]
  },
  {
   "cell_type": "markdown",
   "id": "d6452dc2",
   "metadata": {},
   "source": [
    "# import data"
   ]
  },
  {
   "cell_type": "code",
   "execution_count": 2,
   "id": "6b45face",
   "metadata": {},
   "outputs": [],
   "source": [
    "df = pd.read_csv(\"Churn.csv\")"
   ]
  },
  {
   "cell_type": "markdown",
   "id": "1ea6eba8",
   "metadata": {},
   "source": [
    "\n",
    "# Analyze the Data"
   ]
  },
  {
   "cell_type": "code",
   "execution_count": 3,
   "id": "10c30016",
   "metadata": {},
   "outputs": [
    {
     "data": {
      "text/html": [
       "<div>\n",
       "<style scoped>\n",
       "    .dataframe tbody tr th:only-of-type {\n",
       "        vertical-align: middle;\n",
       "    }\n",
       "\n",
       "    .dataframe tbody tr th {\n",
       "        vertical-align: top;\n",
       "    }\n",
       "\n",
       "    .dataframe thead th {\n",
       "        text-align: right;\n",
       "    }\n",
       "</style>\n",
       "<table border=\"1\" class=\"dataframe\">\n",
       "  <thead>\n",
       "    <tr style=\"text-align: right;\">\n",
       "      <th></th>\n",
       "      <th>Unnamed: 0</th>\n",
       "      <th>state</th>\n",
       "      <th>area.code</th>\n",
       "      <th>account.length</th>\n",
       "      <th>voice.plan</th>\n",
       "      <th>voice.messages</th>\n",
       "      <th>intl.plan</th>\n",
       "      <th>intl.mins</th>\n",
       "      <th>intl.calls</th>\n",
       "      <th>intl.charge</th>\n",
       "      <th>...</th>\n",
       "      <th>day.calls</th>\n",
       "      <th>day.charge</th>\n",
       "      <th>eve.mins</th>\n",
       "      <th>eve.calls</th>\n",
       "      <th>eve.charge</th>\n",
       "      <th>night.mins</th>\n",
       "      <th>night.calls</th>\n",
       "      <th>night.charge</th>\n",
       "      <th>customer.calls</th>\n",
       "      <th>churn</th>\n",
       "    </tr>\n",
       "  </thead>\n",
       "  <tbody>\n",
       "    <tr>\n",
       "      <th>0</th>\n",
       "      <td>1</td>\n",
       "      <td>KS</td>\n",
       "      <td>area_code_415</td>\n",
       "      <td>128</td>\n",
       "      <td>yes</td>\n",
       "      <td>25</td>\n",
       "      <td>no</td>\n",
       "      <td>10.0</td>\n",
       "      <td>3</td>\n",
       "      <td>2.70</td>\n",
       "      <td>...</td>\n",
       "      <td>110</td>\n",
       "      <td>45.07</td>\n",
       "      <td>197.4</td>\n",
       "      <td>99</td>\n",
       "      <td>16.78</td>\n",
       "      <td>244.7</td>\n",
       "      <td>91</td>\n",
       "      <td>11.01</td>\n",
       "      <td>1</td>\n",
       "      <td>no</td>\n",
       "    </tr>\n",
       "    <tr>\n",
       "      <th>1</th>\n",
       "      <td>2</td>\n",
       "      <td>OH</td>\n",
       "      <td>area_code_415</td>\n",
       "      <td>107</td>\n",
       "      <td>yes</td>\n",
       "      <td>26</td>\n",
       "      <td>no</td>\n",
       "      <td>13.7</td>\n",
       "      <td>3</td>\n",
       "      <td>3.70</td>\n",
       "      <td>...</td>\n",
       "      <td>123</td>\n",
       "      <td>27.47</td>\n",
       "      <td>195.5</td>\n",
       "      <td>103</td>\n",
       "      <td>16.62</td>\n",
       "      <td>254.4</td>\n",
       "      <td>103</td>\n",
       "      <td>11.45</td>\n",
       "      <td>1</td>\n",
       "      <td>no</td>\n",
       "    </tr>\n",
       "    <tr>\n",
       "      <th>2</th>\n",
       "      <td>3</td>\n",
       "      <td>NJ</td>\n",
       "      <td>area_code_415</td>\n",
       "      <td>137</td>\n",
       "      <td>no</td>\n",
       "      <td>0</td>\n",
       "      <td>no</td>\n",
       "      <td>12.2</td>\n",
       "      <td>5</td>\n",
       "      <td>3.29</td>\n",
       "      <td>...</td>\n",
       "      <td>114</td>\n",
       "      <td>41.38</td>\n",
       "      <td>121.2</td>\n",
       "      <td>110</td>\n",
       "      <td>10.30</td>\n",
       "      <td>162.6</td>\n",
       "      <td>104</td>\n",
       "      <td>7.32</td>\n",
       "      <td>0</td>\n",
       "      <td>no</td>\n",
       "    </tr>\n",
       "    <tr>\n",
       "      <th>3</th>\n",
       "      <td>4</td>\n",
       "      <td>OH</td>\n",
       "      <td>area_code_408</td>\n",
       "      <td>84</td>\n",
       "      <td>no</td>\n",
       "      <td>0</td>\n",
       "      <td>yes</td>\n",
       "      <td>6.6</td>\n",
       "      <td>7</td>\n",
       "      <td>1.78</td>\n",
       "      <td>...</td>\n",
       "      <td>71</td>\n",
       "      <td>50.9</td>\n",
       "      <td>61.9</td>\n",
       "      <td>88</td>\n",
       "      <td>5.26</td>\n",
       "      <td>196.9</td>\n",
       "      <td>89</td>\n",
       "      <td>8.86</td>\n",
       "      <td>2</td>\n",
       "      <td>no</td>\n",
       "    </tr>\n",
       "    <tr>\n",
       "      <th>4</th>\n",
       "      <td>5</td>\n",
       "      <td>OK</td>\n",
       "      <td>area_code_415</td>\n",
       "      <td>75</td>\n",
       "      <td>no</td>\n",
       "      <td>0</td>\n",
       "      <td>yes</td>\n",
       "      <td>10.1</td>\n",
       "      <td>3</td>\n",
       "      <td>2.73</td>\n",
       "      <td>...</td>\n",
       "      <td>113</td>\n",
       "      <td>28.34</td>\n",
       "      <td>148.3</td>\n",
       "      <td>122</td>\n",
       "      <td>12.61</td>\n",
       "      <td>186.9</td>\n",
       "      <td>121</td>\n",
       "      <td>8.41</td>\n",
       "      <td>3</td>\n",
       "      <td>no</td>\n",
       "    </tr>\n",
       "  </tbody>\n",
       "</table>\n",
       "<p>5 rows × 21 columns</p>\n",
       "</div>"
      ],
      "text/plain": [
       "   Unnamed: 0 state      area.code  account.length voice.plan  voice.messages  \\\n",
       "0           1    KS  area_code_415             128        yes              25   \n",
       "1           2    OH  area_code_415             107        yes              26   \n",
       "2           3    NJ  area_code_415             137         no               0   \n",
       "3           4    OH  area_code_408              84         no               0   \n",
       "4           5    OK  area_code_415              75         no               0   \n",
       "\n",
       "  intl.plan  intl.mins  intl.calls  intl.charge  ...  day.calls  day.charge  \\\n",
       "0        no       10.0           3         2.70  ...        110       45.07   \n",
       "1        no       13.7           3         3.70  ...        123       27.47   \n",
       "2        no       12.2           5         3.29  ...        114       41.38   \n",
       "3       yes        6.6           7         1.78  ...         71        50.9   \n",
       "4       yes       10.1           3         2.73  ...        113       28.34   \n",
       "\n",
       "  eve.mins eve.calls  eve.charge  night.mins  night.calls  night.charge  \\\n",
       "0    197.4        99       16.78       244.7           91         11.01   \n",
       "1    195.5       103       16.62       254.4          103         11.45   \n",
       "2    121.2       110       10.30       162.6          104          7.32   \n",
       "3     61.9        88        5.26       196.9           89          8.86   \n",
       "4    148.3       122       12.61       186.9          121          8.41   \n",
       "\n",
       "   customer.calls  churn  \n",
       "0               1     no  \n",
       "1               1     no  \n",
       "2               0     no  \n",
       "3               2     no  \n",
       "4               3     no  \n",
       "\n",
       "[5 rows x 21 columns]"
      ]
     },
     "execution_count": 3,
     "metadata": {},
     "output_type": "execute_result"
    }
   ],
   "source": [
    "df.head()"
   ]
  },
  {
   "cell_type": "code",
   "execution_count": 4,
   "id": "3462973f",
   "metadata": {},
   "outputs": [
    {
     "name": "stdout",
     "output_type": "stream",
     "text": [
      "<class 'pandas.core.frame.DataFrame'>\n",
      "RangeIndex: 5000 entries, 0 to 4999\n",
      "Data columns (total 21 columns):\n",
      " #   Column          Non-Null Count  Dtype  \n",
      "---  ------          --------------  -----  \n",
      " 0   Unnamed: 0      5000 non-null   int64  \n",
      " 1   state           5000 non-null   object \n",
      " 2   area.code       5000 non-null   object \n",
      " 3   account.length  5000 non-null   int64  \n",
      " 4   voice.plan      5000 non-null   object \n",
      " 5   voice.messages  5000 non-null   int64  \n",
      " 6   intl.plan       5000 non-null   object \n",
      " 7   intl.mins       5000 non-null   float64\n",
      " 8   intl.calls      5000 non-null   int64  \n",
      " 9   intl.charge     5000 non-null   float64\n",
      " 10  day.mins        5000 non-null   float64\n",
      " 11  day.calls       5000 non-null   int64  \n",
      " 12  day.charge      5000 non-null   object \n",
      " 13  eve.mins        5000 non-null   object \n",
      " 14  eve.calls       5000 non-null   int64  \n",
      " 15  eve.charge      5000 non-null   float64\n",
      " 16  night.mins      5000 non-null   float64\n",
      " 17  night.calls     5000 non-null   int64  \n",
      " 18  night.charge    5000 non-null   float64\n",
      " 19  customer.calls  5000 non-null   int64  \n",
      " 20  churn           5000 non-null   object \n",
      "dtypes: float64(6), int64(8), object(7)\n",
      "memory usage: 820.4+ KB\n"
     ]
    }
   ],
   "source": [
    "df.info()"
   ]
  },
  {
   "cell_type": "code",
   "execution_count": 5,
   "id": "265f113f",
   "metadata": {},
   "outputs": [
    {
     "data": {
      "text/plain": [
       "0"
      ]
     },
     "execution_count": 5,
     "metadata": {},
     "output_type": "execute_result"
    }
   ],
   "source": [
    "df.duplicated().sum()"
   ]
  },
  {
   "cell_type": "code",
   "execution_count": 6,
   "id": "77d53cfe",
   "metadata": {},
   "outputs": [
    {
     "name": "stdout",
     "output_type": "stream",
     "text": [
      "<class 'pandas.core.frame.DataFrame'>\n",
      "RangeIndex: 5000 entries, 0 to 4999\n",
      "Data columns (total 21 columns):\n",
      " #   Column          Non-Null Count  Dtype  \n",
      "---  ------          --------------  -----  \n",
      " 0   Unnamed: 0      5000 non-null   int64  \n",
      " 1   state           5000 non-null   object \n",
      " 2   area.code       5000 non-null   object \n",
      " 3   account.length  5000 non-null   int64  \n",
      " 4   voice.plan      5000 non-null   object \n",
      " 5   voice.messages  5000 non-null   int64  \n",
      " 6   intl.plan       5000 non-null   object \n",
      " 7   intl.mins       5000 non-null   float64\n",
      " 8   intl.calls      5000 non-null   int64  \n",
      " 9   intl.charge     5000 non-null   float64\n",
      " 10  day.mins        5000 non-null   float64\n",
      " 11  day.calls       5000 non-null   int64  \n",
      " 12  day.charge      5000 non-null   object \n",
      " 13  eve.mins        5000 non-null   object \n",
      " 14  eve.calls       5000 non-null   int64  \n",
      " 15  eve.charge      5000 non-null   float64\n",
      " 16  night.mins      5000 non-null   float64\n",
      " 17  night.calls     5000 non-null   int64  \n",
      " 18  night.charge    5000 non-null   float64\n",
      " 19  customer.calls  5000 non-null   int64  \n",
      " 20  churn           5000 non-null   object \n",
      "dtypes: float64(6), int64(8), object(7)\n",
      "memory usage: 820.4+ KB\n"
     ]
    }
   ],
   "source": [
    "df.info()"
   ]
  },
  {
   "cell_type": "code",
   "execution_count": 7,
   "id": "875f20e5",
   "metadata": {},
   "outputs": [
    {
     "name": "stdout",
     "output_type": "stream",
     "text": [
      "Unnamed: 0    :    False\n",
      "state    :    False\n",
      "area.code    :    False\n",
      "account.length    :    False\n",
      "voice.plan    :    False\n",
      "voice.messages    :    False\n",
      "intl.plan    :    False\n",
      "intl.mins    :    False\n",
      "intl.calls    :    False\n",
      "intl.charge    :    False\n",
      "day.mins    :    False\n",
      "day.calls    :    False\n",
      "day.charge    :    True\n",
      "eve.mins    :    True\n",
      "eve.calls    :    False\n",
      "eve.charge    :    False\n",
      "night.mins    :    False\n",
      "night.calls    :    False\n",
      "night.charge    :    False\n",
      "customer.calls    :    False\n",
      "churn    :    False\n"
     ]
    }
   ],
   "source": [
    "for i in df.columns:\n",
    "    print(i,\"   :   \",df[i].isin(['NaN','NAN','Nan','nan']).any())"
   ]
  },
  {
   "cell_type": "markdown",
   "id": "e741000c",
   "metadata": {},
   "source": [
    "# Rename Variables"
   ]
  },
  {
   "cell_type": "code",
   "execution_count": 8,
   "id": "b0d2230b",
   "metadata": {},
   "outputs": [],
   "source": [
    "df.rename(columns = {'Unnamed: 0' :'unnamed',\n",
    "                      'state': 'state', \n",
    "                     'area code': 'area_code', \n",
    "                     'account.length': 'account_length', \n",
    "                     'voice.plan': 'voice_plan', \n",
    "                     'voice.messages': 'voice_messages', \n",
    "                     'intl.plan': 'intl_plan', \n",
    "                     'intl.mins  ':'intl_mins ',\n",
    "                     'intl.calls ':'intl_calls ', \n",
    "                     'intl.charge':'intl_charge', \n",
    "                     'day.mins ':'day_mins ', \n",
    "                     'day.calls': 'day_calls', \n",
    "                     'day.charge': 'day_charge', \n",
    "                     'eve.mins':'eve_mins',\n",
    "                     'eve.calls':'eve_calls',\n",
    "                     'eve.charge': 'eve_charge',\n",
    "                     'night.mins':'night_mins', \n",
    "                     'night.calls':'night_calls', \n",
    "                     'night.charge': 'night_charge', \n",
    "                     'customer.calls':'customer_calls', \n",
    "                     'churn': 'customer_churn'}, inplace = True)"
   ]
  },
  {
   "cell_type": "code",
   "execution_count": 9,
   "id": "6cafa487",
   "metadata": {},
   "outputs": [
    {
     "data": {
      "text/plain": [
       "Index(['unnamed', 'state', 'area.code', 'account_length', 'voice_plan',\n",
       "       'voice_messages', 'intl_plan', 'intl.mins', 'intl.calls', 'intl_charge',\n",
       "       'day.mins', 'day_calls', 'day_charge', 'eve_mins', 'eve_calls',\n",
       "       'eve_charge', 'night_mins', 'night_calls', 'night_charge',\n",
       "       'customer_calls', 'customer_churn'],\n",
       "      dtype='object')"
      ]
     },
     "execution_count": 9,
     "metadata": {},
     "output_type": "execute_result"
    }
   ],
   "source": [
    "df.columns"
   ]
  },
  {
   "cell_type": "code",
   "execution_count": 10,
   "id": "5e9e215a",
   "metadata": {},
   "outputs": [],
   "source": [
    "df.rename(columns = {'intl.mins':'intl_mins'},inplace =True)\n",
    "df.rename(columns = {'area.code': 'area_code'},inplace =True)\n",
    "df.rename(columns = {'intl.calls': 'intl_calls'},inplace =True)\n",
    "df.rename(columns = {'day.mins': 'day_mins'},inplace =True)"
   ]
  },
  {
   "cell_type": "code",
   "execution_count": 11,
   "id": "fa0f021c",
   "metadata": {},
   "outputs": [
    {
     "data": {
      "text/plain": [
       "Index(['unnamed', 'state', 'area_code', 'account_length', 'voice_plan',\n",
       "       'voice_messages', 'intl_plan', 'intl_mins', 'intl_calls', 'intl_charge',\n",
       "       'day_mins', 'day_calls', 'day_charge', 'eve_mins', 'eve_calls',\n",
       "       'eve_charge', 'night_mins', 'night_calls', 'night_charge',\n",
       "       'customer_calls', 'customer_churn'],\n",
       "      dtype='object')"
      ]
     },
     "execution_count": 11,
     "metadata": {},
     "output_type": "execute_result"
    }
   ],
   "source": [
    "df.columns"
   ]
  },
  {
   "cell_type": "code",
   "execution_count": 12,
   "id": "873f5302",
   "metadata": {},
   "outputs": [],
   "source": [
    "df['day_charge'] = pd.to_numeric(df.day_charge,errors='coerce')\n",
    "df['eve_mins'] = pd.to_numeric(df.eve_mins,errors='coerce')"
   ]
  },
  {
   "cell_type": "code",
   "execution_count": 13,
   "id": "3a6599e8",
   "metadata": {},
   "outputs": [
    {
     "name": "stdout",
     "output_type": "stream",
     "text": [
      "<class 'pandas.core.frame.DataFrame'>\n",
      "RangeIndex: 5000 entries, 0 to 4999\n",
      "Data columns (total 21 columns):\n",
      " #   Column          Non-Null Count  Dtype  \n",
      "---  ------          --------------  -----  \n",
      " 0   unnamed         5000 non-null   int64  \n",
      " 1   state           5000 non-null   object \n",
      " 2   area_code       5000 non-null   object \n",
      " 3   account_length  5000 non-null   int64  \n",
      " 4   voice_plan      5000 non-null   object \n",
      " 5   voice_messages  5000 non-null   int64  \n",
      " 6   intl_plan       5000 non-null   object \n",
      " 7   intl_mins       5000 non-null   float64\n",
      " 8   intl_calls      5000 non-null   int64  \n",
      " 9   intl_charge     5000 non-null   float64\n",
      " 10  day_mins        5000 non-null   float64\n",
      " 11  day_calls       5000 non-null   int64  \n",
      " 12  day_charge      4993 non-null   float64\n",
      " 13  eve_mins        4976 non-null   float64\n",
      " 14  eve_calls       5000 non-null   int64  \n",
      " 15  eve_charge      5000 non-null   float64\n",
      " 16  night_mins      5000 non-null   float64\n",
      " 17  night_calls     5000 non-null   int64  \n",
      " 18  night_charge    5000 non-null   float64\n",
      " 19  customer_calls  5000 non-null   int64  \n",
      " 20  customer_churn  5000 non-null   object \n",
      "dtypes: float64(8), int64(8), object(5)\n",
      "memory usage: 820.4+ KB\n"
     ]
    }
   ],
   "source": [
    "df.info()"
   ]
  },
  {
   "cell_type": "code",
   "execution_count": 14,
   "id": "c49ec22e",
   "metadata": {},
   "outputs": [],
   "source": [
    "df[\"day_charge\"].fillna(\"0\", inplace=True)\n",
    "df[\"eve_mins\"].fillna(\"0\", inplace=True)"
   ]
  },
  {
   "cell_type": "code",
   "execution_count": 15,
   "id": "fd3ba245",
   "metadata": {},
   "outputs": [
    {
     "name": "stdout",
     "output_type": "stream",
     "text": [
      "<class 'pandas.core.frame.DataFrame'>\n",
      "RangeIndex: 5000 entries, 0 to 4999\n",
      "Data columns (total 21 columns):\n",
      " #   Column          Non-Null Count  Dtype  \n",
      "---  ------          --------------  -----  \n",
      " 0   unnamed         5000 non-null   int64  \n",
      " 1   state           5000 non-null   object \n",
      " 2   area_code       5000 non-null   object \n",
      " 3   account_length  5000 non-null   int64  \n",
      " 4   voice_plan      5000 non-null   object \n",
      " 5   voice_messages  5000 non-null   int64  \n",
      " 6   intl_plan       5000 non-null   object \n",
      " 7   intl_mins       5000 non-null   float64\n",
      " 8   intl_calls      5000 non-null   int64  \n",
      " 9   intl_charge     5000 non-null   float64\n",
      " 10  day_mins        5000 non-null   float64\n",
      " 11  day_calls       5000 non-null   int64  \n",
      " 12  day_charge      5000 non-null   object \n",
      " 13  eve_mins        5000 non-null   object \n",
      " 14  eve_calls       5000 non-null   int64  \n",
      " 15  eve_charge      5000 non-null   float64\n",
      " 16  night_mins      5000 non-null   float64\n",
      " 17  night_calls     5000 non-null   int64  \n",
      " 18  night_charge    5000 non-null   float64\n",
      " 19  customer_calls  5000 non-null   int64  \n",
      " 20  customer_churn  5000 non-null   object \n",
      "dtypes: float64(6), int64(8), object(7)\n",
      "memory usage: 820.4+ KB\n"
     ]
    }
   ],
   "source": [
    "df.info()"
   ]
  },
  {
   "cell_type": "code",
   "execution_count": 16,
   "id": "27f1eaa0",
   "metadata": {},
   "outputs": [],
   "source": [
    "df = df.astype({'day_charge':'int'})"
   ]
  },
  {
   "cell_type": "code",
   "execution_count": 17,
   "id": "3430024a",
   "metadata": {},
   "outputs": [],
   "source": [
    "df = df.astype({'eve_mins':'int'})"
   ]
  },
  {
   "cell_type": "code",
   "execution_count": 18,
   "id": "59078d9a",
   "metadata": {},
   "outputs": [],
   "source": [
    "df.replace(False, 0, inplace = True)\n",
    "df.replace('no', 0, inplace = True)\n",
    "df.replace(True, 1, inplace = True)\n",
    "df.replace('yes', 1, inplace = True)"
   ]
  },
  {
   "cell_type": "code",
   "execution_count": 19,
   "id": "43db4913",
   "metadata": {},
   "outputs": [],
   "source": [
    "#from pandas_profiling import ProfileReport\n",
    "#profile = ProfileReport(df)\n",
    "#profile.to_file(output_file=\"churn.html\")"
   ]
  },
  {
   "cell_type": "markdown",
   "id": "4329ec54",
   "metadata": {},
   "source": [
    "#drop unnecessary varaibles\n"
   ]
  },
  {
   "cell_type": "code",
   "execution_count": 20,
   "id": "3a68356b",
   "metadata": {},
   "outputs": [],
   "source": [
    "df.drop(columns =['unnamed','voice_messages','intl_mins','day_mins','eve_mins','night_mins'], axis=1, inplace=True)"
   ]
  },
  {
   "cell_type": "code",
   "execution_count": 21,
   "id": "06472092",
   "metadata": {},
   "outputs": [
    {
     "data": {
      "text/plain": [
       "Index(['state', 'area_code', 'account_length', 'voice_plan', 'intl_plan',\n",
       "       'intl_calls', 'intl_charge', 'day_calls', 'day_charge', 'eve_calls',\n",
       "       'eve_charge', 'night_calls', 'night_charge', 'customer_calls',\n",
       "       'customer_churn'],\n",
       "      dtype='object')"
      ]
     },
     "execution_count": 21,
     "metadata": {},
     "output_type": "execute_result"
    }
   ],
   "source": [
    "df.columns"
   ]
  },
  {
   "cell_type": "code",
   "execution_count": 22,
   "id": "f2776849",
   "metadata": {},
   "outputs": [
    {
     "name": "stdout",
     "output_type": "stream",
     "text": [
      "<class 'pandas.core.frame.DataFrame'>\n",
      "RangeIndex: 5000 entries, 0 to 4999\n",
      "Data columns (total 15 columns):\n",
      " #   Column          Non-Null Count  Dtype  \n",
      "---  ------          --------------  -----  \n",
      " 0   state           5000 non-null   object \n",
      " 1   area_code       5000 non-null   object \n",
      " 2   account_length  5000 non-null   int64  \n",
      " 3   voice_plan      5000 non-null   int64  \n",
      " 4   intl_plan       5000 non-null   int64  \n",
      " 5   intl_calls      5000 non-null   int64  \n",
      " 6   intl_charge     5000 non-null   float64\n",
      " 7   day_calls       5000 non-null   int64  \n",
      " 8   day_charge      5000 non-null   int32  \n",
      " 9   eve_calls       5000 non-null   int64  \n",
      " 10  eve_charge      5000 non-null   float64\n",
      " 11  night_calls     5000 non-null   int64  \n",
      " 12  night_charge    5000 non-null   float64\n",
      " 13  customer_calls  5000 non-null   int64  \n",
      " 14  customer_churn  5000 non-null   int64  \n",
      "dtypes: float64(3), int32(1), int64(9), object(2)\n",
      "memory usage: 566.5+ KB\n"
     ]
    }
   ],
   "source": [
    "df.info()"
   ]
  },
  {
   "cell_type": "markdown",
   "id": "2ca71642",
   "metadata": {},
   "source": [
    "#Encoding"
   ]
  },
  {
   "cell_type": "code",
   "execution_count": 23,
   "id": "2126ff6c",
   "metadata": {
    "scrolled": true
   },
   "outputs": [
    {
     "data": {
      "text/plain": [
       "area_code_415    2495\n",
       "area_code_408    1259\n",
       "area_code_510    1246\n",
       "Name: area_code, dtype: int64"
      ]
     },
     "execution_count": 23,
     "metadata": {},
     "output_type": "execute_result"
    }
   ],
   "source": [
    "df['area_code'].value_counts()"
   ]
  },
  {
   "cell_type": "code",
   "execution_count": 24,
   "id": "9ed46ced",
   "metadata": {},
   "outputs": [
    {
     "data": {
      "text/html": [
       "<div>\n",
       "<style scoped>\n",
       "    .dataframe tbody tr th:only-of-type {\n",
       "        vertical-align: middle;\n",
       "    }\n",
       "\n",
       "    .dataframe tbody tr th {\n",
       "        vertical-align: top;\n",
       "    }\n",
       "\n",
       "    .dataframe thead th {\n",
       "        text-align: right;\n",
       "    }\n",
       "</style>\n",
       "<table border=\"1\" class=\"dataframe\">\n",
       "  <thead>\n",
       "    <tr style=\"text-align: right;\">\n",
       "      <th></th>\n",
       "      <th>area_code_408</th>\n",
       "      <th>area_code_415</th>\n",
       "      <th>area_code_510</th>\n",
       "    </tr>\n",
       "  </thead>\n",
       "  <tbody>\n",
       "    <tr>\n",
       "      <th>0</th>\n",
       "      <td>0</td>\n",
       "      <td>1</td>\n",
       "      <td>0</td>\n",
       "    </tr>\n",
       "    <tr>\n",
       "      <th>1</th>\n",
       "      <td>0</td>\n",
       "      <td>1</td>\n",
       "      <td>0</td>\n",
       "    </tr>\n",
       "    <tr>\n",
       "      <th>2</th>\n",
       "      <td>0</td>\n",
       "      <td>1</td>\n",
       "      <td>0</td>\n",
       "    </tr>\n",
       "    <tr>\n",
       "      <th>3</th>\n",
       "      <td>1</td>\n",
       "      <td>0</td>\n",
       "      <td>0</td>\n",
       "    </tr>\n",
       "    <tr>\n",
       "      <th>4</th>\n",
       "      <td>0</td>\n",
       "      <td>1</td>\n",
       "      <td>0</td>\n",
       "    </tr>\n",
       "    <tr>\n",
       "      <th>...</th>\n",
       "      <td>...</td>\n",
       "      <td>...</td>\n",
       "      <td>...</td>\n",
       "    </tr>\n",
       "    <tr>\n",
       "      <th>4995</th>\n",
       "      <td>1</td>\n",
       "      <td>0</td>\n",
       "      <td>0</td>\n",
       "    </tr>\n",
       "    <tr>\n",
       "      <th>4996</th>\n",
       "      <td>0</td>\n",
       "      <td>1</td>\n",
       "      <td>0</td>\n",
       "    </tr>\n",
       "    <tr>\n",
       "      <th>4997</th>\n",
       "      <td>0</td>\n",
       "      <td>1</td>\n",
       "      <td>0</td>\n",
       "    </tr>\n",
       "    <tr>\n",
       "      <th>4998</th>\n",
       "      <td>0</td>\n",
       "      <td>0</td>\n",
       "      <td>1</td>\n",
       "    </tr>\n",
       "    <tr>\n",
       "      <th>4999</th>\n",
       "      <td>0</td>\n",
       "      <td>1</td>\n",
       "      <td>0</td>\n",
       "    </tr>\n",
       "  </tbody>\n",
       "</table>\n",
       "<p>5000 rows × 3 columns</p>\n",
       "</div>"
      ],
      "text/plain": [
       "      area_code_408  area_code_415  area_code_510\n",
       "0                 0              1              0\n",
       "1                 0              1              0\n",
       "2                 0              1              0\n",
       "3                 1              0              0\n",
       "4                 0              1              0\n",
       "...             ...            ...            ...\n",
       "4995              1              0              0\n",
       "4996              0              1              0\n",
       "4997              0              1              0\n",
       "4998              0              0              1\n",
       "4999              0              1              0\n",
       "\n",
       "[5000 rows x 3 columns]"
      ]
     },
     "execution_count": 24,
     "metadata": {},
     "output_type": "execute_result"
    }
   ],
   "source": [
    "dummies = pd.get_dummies(df.area_code)\n",
    "dummies"
   ]
  },
  {
   "cell_type": "code",
   "execution_count": 25,
   "id": "91c142a0",
   "metadata": {},
   "outputs": [
    {
     "data": {
      "text/html": [
       "<div>\n",
       "<style scoped>\n",
       "    .dataframe tbody tr th:only-of-type {\n",
       "        vertical-align: middle;\n",
       "    }\n",
       "\n",
       "    .dataframe tbody tr th {\n",
       "        vertical-align: top;\n",
       "    }\n",
       "\n",
       "    .dataframe thead th {\n",
       "        text-align: right;\n",
       "    }\n",
       "</style>\n",
       "<table border=\"1\" class=\"dataframe\">\n",
       "  <thead>\n",
       "    <tr style=\"text-align: right;\">\n",
       "      <th></th>\n",
       "      <th>state</th>\n",
       "      <th>area_code</th>\n",
       "      <th>account_length</th>\n",
       "      <th>voice_plan</th>\n",
       "      <th>intl_plan</th>\n",
       "      <th>intl_calls</th>\n",
       "      <th>intl_charge</th>\n",
       "      <th>day_calls</th>\n",
       "      <th>day_charge</th>\n",
       "      <th>eve_calls</th>\n",
       "      <th>eve_charge</th>\n",
       "      <th>night_calls</th>\n",
       "      <th>night_charge</th>\n",
       "      <th>customer_calls</th>\n",
       "      <th>customer_churn</th>\n",
       "      <th>area_code_408</th>\n",
       "      <th>area_code_415</th>\n",
       "      <th>area_code_510</th>\n",
       "    </tr>\n",
       "  </thead>\n",
       "  <tbody>\n",
       "    <tr>\n",
       "      <th>0</th>\n",
       "      <td>KS</td>\n",
       "      <td>area_code_415</td>\n",
       "      <td>128</td>\n",
       "      <td>1</td>\n",
       "      <td>0</td>\n",
       "      <td>3</td>\n",
       "      <td>2.70</td>\n",
       "      <td>110</td>\n",
       "      <td>45</td>\n",
       "      <td>99</td>\n",
       "      <td>16.78</td>\n",
       "      <td>91</td>\n",
       "      <td>11.01</td>\n",
       "      <td>1</td>\n",
       "      <td>0</td>\n",
       "      <td>0</td>\n",
       "      <td>1</td>\n",
       "      <td>0</td>\n",
       "    </tr>\n",
       "    <tr>\n",
       "      <th>1</th>\n",
       "      <td>OH</td>\n",
       "      <td>area_code_415</td>\n",
       "      <td>107</td>\n",
       "      <td>1</td>\n",
       "      <td>0</td>\n",
       "      <td>3</td>\n",
       "      <td>3.70</td>\n",
       "      <td>123</td>\n",
       "      <td>27</td>\n",
       "      <td>103</td>\n",
       "      <td>16.62</td>\n",
       "      <td>103</td>\n",
       "      <td>11.45</td>\n",
       "      <td>1</td>\n",
       "      <td>0</td>\n",
       "      <td>0</td>\n",
       "      <td>1</td>\n",
       "      <td>0</td>\n",
       "    </tr>\n",
       "    <tr>\n",
       "      <th>2</th>\n",
       "      <td>NJ</td>\n",
       "      <td>area_code_415</td>\n",
       "      <td>137</td>\n",
       "      <td>0</td>\n",
       "      <td>0</td>\n",
       "      <td>5</td>\n",
       "      <td>3.29</td>\n",
       "      <td>114</td>\n",
       "      <td>41</td>\n",
       "      <td>110</td>\n",
       "      <td>10.30</td>\n",
       "      <td>104</td>\n",
       "      <td>7.32</td>\n",
       "      <td>0</td>\n",
       "      <td>0</td>\n",
       "      <td>0</td>\n",
       "      <td>1</td>\n",
       "      <td>0</td>\n",
       "    </tr>\n",
       "    <tr>\n",
       "      <th>3</th>\n",
       "      <td>OH</td>\n",
       "      <td>area_code_408</td>\n",
       "      <td>84</td>\n",
       "      <td>0</td>\n",
       "      <td>1</td>\n",
       "      <td>7</td>\n",
       "      <td>1.78</td>\n",
       "      <td>71</td>\n",
       "      <td>50</td>\n",
       "      <td>88</td>\n",
       "      <td>5.26</td>\n",
       "      <td>89</td>\n",
       "      <td>8.86</td>\n",
       "      <td>2</td>\n",
       "      <td>0</td>\n",
       "      <td>1</td>\n",
       "      <td>0</td>\n",
       "      <td>0</td>\n",
       "    </tr>\n",
       "    <tr>\n",
       "      <th>4</th>\n",
       "      <td>OK</td>\n",
       "      <td>area_code_415</td>\n",
       "      <td>75</td>\n",
       "      <td>0</td>\n",
       "      <td>1</td>\n",
       "      <td>3</td>\n",
       "      <td>2.73</td>\n",
       "      <td>113</td>\n",
       "      <td>28</td>\n",
       "      <td>122</td>\n",
       "      <td>12.61</td>\n",
       "      <td>121</td>\n",
       "      <td>8.41</td>\n",
       "      <td>3</td>\n",
       "      <td>0</td>\n",
       "      <td>0</td>\n",
       "      <td>1</td>\n",
       "      <td>0</td>\n",
       "    </tr>\n",
       "    <tr>\n",
       "      <th>...</th>\n",
       "      <td>...</td>\n",
       "      <td>...</td>\n",
       "      <td>...</td>\n",
       "      <td>...</td>\n",
       "      <td>...</td>\n",
       "      <td>...</td>\n",
       "      <td>...</td>\n",
       "      <td>...</td>\n",
       "      <td>...</td>\n",
       "      <td>...</td>\n",
       "      <td>...</td>\n",
       "      <td>...</td>\n",
       "      <td>...</td>\n",
       "      <td>...</td>\n",
       "      <td>...</td>\n",
       "      <td>...</td>\n",
       "      <td>...</td>\n",
       "      <td>...</td>\n",
       "    </tr>\n",
       "    <tr>\n",
       "      <th>4995</th>\n",
       "      <td>HI</td>\n",
       "      <td>area_code_408</td>\n",
       "      <td>50</td>\n",
       "      <td>1</td>\n",
       "      <td>0</td>\n",
       "      <td>5</td>\n",
       "      <td>2.67</td>\n",
       "      <td>127</td>\n",
       "      <td>40</td>\n",
       "      <td>126</td>\n",
       "      <td>18.96</td>\n",
       "      <td>116</td>\n",
       "      <td>13.39</td>\n",
       "      <td>2</td>\n",
       "      <td>0</td>\n",
       "      <td>1</td>\n",
       "      <td>0</td>\n",
       "      <td>0</td>\n",
       "    </tr>\n",
       "    <tr>\n",
       "      <th>4996</th>\n",
       "      <td>WV</td>\n",
       "      <td>area_code_415</td>\n",
       "      <td>152</td>\n",
       "      <td>0</td>\n",
       "      <td>0</td>\n",
       "      <td>2</td>\n",
       "      <td>3.97</td>\n",
       "      <td>90</td>\n",
       "      <td>31</td>\n",
       "      <td>73</td>\n",
       "      <td>21.83</td>\n",
       "      <td>113</td>\n",
       "      <td>9.61</td>\n",
       "      <td>3</td>\n",
       "      <td>1</td>\n",
       "      <td>0</td>\n",
       "      <td>1</td>\n",
       "      <td>0</td>\n",
       "    </tr>\n",
       "    <tr>\n",
       "      <th>4997</th>\n",
       "      <td>DC</td>\n",
       "      <td>area_code_415</td>\n",
       "      <td>61</td>\n",
       "      <td>0</td>\n",
       "      <td>0</td>\n",
       "      <td>4</td>\n",
       "      <td>3.67</td>\n",
       "      <td>89</td>\n",
       "      <td>23</td>\n",
       "      <td>128</td>\n",
       "      <td>14.69</td>\n",
       "      <td>97</td>\n",
       "      <td>9.56</td>\n",
       "      <td>1</td>\n",
       "      <td>0</td>\n",
       "      <td>0</td>\n",
       "      <td>1</td>\n",
       "      <td>0</td>\n",
       "    </tr>\n",
       "    <tr>\n",
       "      <th>4998</th>\n",
       "      <td>DC</td>\n",
       "      <td>area_code_510</td>\n",
       "      <td>109</td>\n",
       "      <td>0</td>\n",
       "      <td>0</td>\n",
       "      <td>6</td>\n",
       "      <td>2.30</td>\n",
       "      <td>67</td>\n",
       "      <td>32</td>\n",
       "      <td>92</td>\n",
       "      <td>14.59</td>\n",
       "      <td>89</td>\n",
       "      <td>10.10</td>\n",
       "      <td>0</td>\n",
       "      <td>0</td>\n",
       "      <td>0</td>\n",
       "      <td>0</td>\n",
       "      <td>1</td>\n",
       "    </tr>\n",
       "    <tr>\n",
       "      <th>4999</th>\n",
       "      <td>VT</td>\n",
       "      <td>area_code_415</td>\n",
       "      <td>86</td>\n",
       "      <td>1</td>\n",
       "      <td>0</td>\n",
       "      <td>16</td>\n",
       "      <td>2.51</td>\n",
       "      <td>102</td>\n",
       "      <td>22</td>\n",
       "      <td>104</td>\n",
       "      <td>22.70</td>\n",
       "      <td>100</td>\n",
       "      <td>6.97</td>\n",
       "      <td>0</td>\n",
       "      <td>0</td>\n",
       "      <td>0</td>\n",
       "      <td>1</td>\n",
       "      <td>0</td>\n",
       "    </tr>\n",
       "  </tbody>\n",
       "</table>\n",
       "<p>5000 rows × 18 columns</p>\n",
       "</div>"
      ],
      "text/plain": [
       "     state      area_code  account_length  voice_plan  intl_plan  intl_calls  \\\n",
       "0       KS  area_code_415             128           1          0           3   \n",
       "1       OH  area_code_415             107           1          0           3   \n",
       "2       NJ  area_code_415             137           0          0           5   \n",
       "3       OH  area_code_408              84           0          1           7   \n",
       "4       OK  area_code_415              75           0          1           3   \n",
       "...    ...            ...             ...         ...        ...         ...   \n",
       "4995    HI  area_code_408              50           1          0           5   \n",
       "4996    WV  area_code_415             152           0          0           2   \n",
       "4997    DC  area_code_415              61           0          0           4   \n",
       "4998    DC  area_code_510             109           0          0           6   \n",
       "4999    VT  area_code_415              86           1          0          16   \n",
       "\n",
       "      intl_charge  day_calls  day_charge  eve_calls  eve_charge  night_calls  \\\n",
       "0            2.70        110          45         99       16.78           91   \n",
       "1            3.70        123          27        103       16.62          103   \n",
       "2            3.29        114          41        110       10.30          104   \n",
       "3            1.78         71          50         88        5.26           89   \n",
       "4            2.73        113          28        122       12.61          121   \n",
       "...           ...        ...         ...        ...         ...          ...   \n",
       "4995         2.67        127          40        126       18.96          116   \n",
       "4996         3.97         90          31         73       21.83          113   \n",
       "4997         3.67         89          23        128       14.69           97   \n",
       "4998         2.30         67          32         92       14.59           89   \n",
       "4999         2.51        102          22        104       22.70          100   \n",
       "\n",
       "      night_charge  customer_calls  customer_churn  area_code_408  \\\n",
       "0            11.01               1               0              0   \n",
       "1            11.45               1               0              0   \n",
       "2             7.32               0               0              0   \n",
       "3             8.86               2               0              1   \n",
       "4             8.41               3               0              0   \n",
       "...            ...             ...             ...            ...   \n",
       "4995         13.39               2               0              1   \n",
       "4996          9.61               3               1              0   \n",
       "4997          9.56               1               0              0   \n",
       "4998         10.10               0               0              0   \n",
       "4999          6.97               0               0              0   \n",
       "\n",
       "      area_code_415  area_code_510  \n",
       "0                 1              0  \n",
       "1                 1              0  \n",
       "2                 1              0  \n",
       "3                 0              0  \n",
       "4                 1              0  \n",
       "...             ...            ...  \n",
       "4995              0              0  \n",
       "4996              1              0  \n",
       "4997              1              0  \n",
       "4998              0              1  \n",
       "4999              1              0  \n",
       "\n",
       "[5000 rows x 18 columns]"
      ]
     },
     "execution_count": 25,
     "metadata": {},
     "output_type": "execute_result"
    }
   ],
   "source": [
    "df_dummies= pd.concat([df,dummies],axis=1)\n",
    "df_dummies"
   ]
  },
  {
   "cell_type": "code",
   "execution_count": 26,
   "id": "d388d6bb",
   "metadata": {},
   "outputs": [],
   "source": [
    "df_dummies.drop(['state','area_code','area_code_510'],axis=1, inplace=True)"
   ]
  },
  {
   "cell_type": "code",
   "execution_count": null,
   "id": "8517df12",
   "metadata": {},
   "outputs": [],
   "source": []
  },
  {
   "cell_type": "code",
   "execution_count": 27,
   "id": "e24c267b",
   "metadata": {},
   "outputs": [
    {
     "data": {
      "text/html": [
       "<div>\n",
       "<style scoped>\n",
       "    .dataframe tbody tr th:only-of-type {\n",
       "        vertical-align: middle;\n",
       "    }\n",
       "\n",
       "    .dataframe tbody tr th {\n",
       "        vertical-align: top;\n",
       "    }\n",
       "\n",
       "    .dataframe thead th {\n",
       "        text-align: right;\n",
       "    }\n",
       "</style>\n",
       "<table border=\"1\" class=\"dataframe\">\n",
       "  <thead>\n",
       "    <tr style=\"text-align: right;\">\n",
       "      <th></th>\n",
       "      <th>account_length</th>\n",
       "      <th>voice_plan</th>\n",
       "      <th>intl_plan</th>\n",
       "      <th>intl_calls</th>\n",
       "      <th>intl_charge</th>\n",
       "      <th>day_calls</th>\n",
       "      <th>day_charge</th>\n",
       "      <th>eve_calls</th>\n",
       "      <th>eve_charge</th>\n",
       "      <th>night_calls</th>\n",
       "      <th>night_charge</th>\n",
       "      <th>customer_calls</th>\n",
       "      <th>customer_churn</th>\n",
       "      <th>area_code_408</th>\n",
       "      <th>area_code_415</th>\n",
       "    </tr>\n",
       "  </thead>\n",
       "  <tbody>\n",
       "    <tr>\n",
       "      <th>0</th>\n",
       "      <td>128</td>\n",
       "      <td>1</td>\n",
       "      <td>0</td>\n",
       "      <td>3</td>\n",
       "      <td>2.70</td>\n",
       "      <td>110</td>\n",
       "      <td>45</td>\n",
       "      <td>99</td>\n",
       "      <td>16.78</td>\n",
       "      <td>91</td>\n",
       "      <td>11.01</td>\n",
       "      <td>1</td>\n",
       "      <td>0</td>\n",
       "      <td>0</td>\n",
       "      <td>1</td>\n",
       "    </tr>\n",
       "    <tr>\n",
       "      <th>1</th>\n",
       "      <td>107</td>\n",
       "      <td>1</td>\n",
       "      <td>0</td>\n",
       "      <td>3</td>\n",
       "      <td>3.70</td>\n",
       "      <td>123</td>\n",
       "      <td>27</td>\n",
       "      <td>103</td>\n",
       "      <td>16.62</td>\n",
       "      <td>103</td>\n",
       "      <td>11.45</td>\n",
       "      <td>1</td>\n",
       "      <td>0</td>\n",
       "      <td>0</td>\n",
       "      <td>1</td>\n",
       "    </tr>\n",
       "    <tr>\n",
       "      <th>2</th>\n",
       "      <td>137</td>\n",
       "      <td>0</td>\n",
       "      <td>0</td>\n",
       "      <td>5</td>\n",
       "      <td>3.29</td>\n",
       "      <td>114</td>\n",
       "      <td>41</td>\n",
       "      <td>110</td>\n",
       "      <td>10.30</td>\n",
       "      <td>104</td>\n",
       "      <td>7.32</td>\n",
       "      <td>0</td>\n",
       "      <td>0</td>\n",
       "      <td>0</td>\n",
       "      <td>1</td>\n",
       "    </tr>\n",
       "    <tr>\n",
       "      <th>3</th>\n",
       "      <td>84</td>\n",
       "      <td>0</td>\n",
       "      <td>1</td>\n",
       "      <td>7</td>\n",
       "      <td>1.78</td>\n",
       "      <td>71</td>\n",
       "      <td>50</td>\n",
       "      <td>88</td>\n",
       "      <td>5.26</td>\n",
       "      <td>89</td>\n",
       "      <td>8.86</td>\n",
       "      <td>2</td>\n",
       "      <td>0</td>\n",
       "      <td>1</td>\n",
       "      <td>0</td>\n",
       "    </tr>\n",
       "    <tr>\n",
       "      <th>4</th>\n",
       "      <td>75</td>\n",
       "      <td>0</td>\n",
       "      <td>1</td>\n",
       "      <td>3</td>\n",
       "      <td>2.73</td>\n",
       "      <td>113</td>\n",
       "      <td>28</td>\n",
       "      <td>122</td>\n",
       "      <td>12.61</td>\n",
       "      <td>121</td>\n",
       "      <td>8.41</td>\n",
       "      <td>3</td>\n",
       "      <td>0</td>\n",
       "      <td>0</td>\n",
       "      <td>1</td>\n",
       "    </tr>\n",
       "    <tr>\n",
       "      <th>...</th>\n",
       "      <td>...</td>\n",
       "      <td>...</td>\n",
       "      <td>...</td>\n",
       "      <td>...</td>\n",
       "      <td>...</td>\n",
       "      <td>...</td>\n",
       "      <td>...</td>\n",
       "      <td>...</td>\n",
       "      <td>...</td>\n",
       "      <td>...</td>\n",
       "      <td>...</td>\n",
       "      <td>...</td>\n",
       "      <td>...</td>\n",
       "      <td>...</td>\n",
       "      <td>...</td>\n",
       "    </tr>\n",
       "    <tr>\n",
       "      <th>4995</th>\n",
       "      <td>50</td>\n",
       "      <td>1</td>\n",
       "      <td>0</td>\n",
       "      <td>5</td>\n",
       "      <td>2.67</td>\n",
       "      <td>127</td>\n",
       "      <td>40</td>\n",
       "      <td>126</td>\n",
       "      <td>18.96</td>\n",
       "      <td>116</td>\n",
       "      <td>13.39</td>\n",
       "      <td>2</td>\n",
       "      <td>0</td>\n",
       "      <td>1</td>\n",
       "      <td>0</td>\n",
       "    </tr>\n",
       "    <tr>\n",
       "      <th>4996</th>\n",
       "      <td>152</td>\n",
       "      <td>0</td>\n",
       "      <td>0</td>\n",
       "      <td>2</td>\n",
       "      <td>3.97</td>\n",
       "      <td>90</td>\n",
       "      <td>31</td>\n",
       "      <td>73</td>\n",
       "      <td>21.83</td>\n",
       "      <td>113</td>\n",
       "      <td>9.61</td>\n",
       "      <td>3</td>\n",
       "      <td>1</td>\n",
       "      <td>0</td>\n",
       "      <td>1</td>\n",
       "    </tr>\n",
       "    <tr>\n",
       "      <th>4997</th>\n",
       "      <td>61</td>\n",
       "      <td>0</td>\n",
       "      <td>0</td>\n",
       "      <td>4</td>\n",
       "      <td>3.67</td>\n",
       "      <td>89</td>\n",
       "      <td>23</td>\n",
       "      <td>128</td>\n",
       "      <td>14.69</td>\n",
       "      <td>97</td>\n",
       "      <td>9.56</td>\n",
       "      <td>1</td>\n",
       "      <td>0</td>\n",
       "      <td>0</td>\n",
       "      <td>1</td>\n",
       "    </tr>\n",
       "    <tr>\n",
       "      <th>4998</th>\n",
       "      <td>109</td>\n",
       "      <td>0</td>\n",
       "      <td>0</td>\n",
       "      <td>6</td>\n",
       "      <td>2.30</td>\n",
       "      <td>67</td>\n",
       "      <td>32</td>\n",
       "      <td>92</td>\n",
       "      <td>14.59</td>\n",
       "      <td>89</td>\n",
       "      <td>10.10</td>\n",
       "      <td>0</td>\n",
       "      <td>0</td>\n",
       "      <td>0</td>\n",
       "      <td>0</td>\n",
       "    </tr>\n",
       "    <tr>\n",
       "      <th>4999</th>\n",
       "      <td>86</td>\n",
       "      <td>1</td>\n",
       "      <td>0</td>\n",
       "      <td>16</td>\n",
       "      <td>2.51</td>\n",
       "      <td>102</td>\n",
       "      <td>22</td>\n",
       "      <td>104</td>\n",
       "      <td>22.70</td>\n",
       "      <td>100</td>\n",
       "      <td>6.97</td>\n",
       "      <td>0</td>\n",
       "      <td>0</td>\n",
       "      <td>0</td>\n",
       "      <td>1</td>\n",
       "    </tr>\n",
       "  </tbody>\n",
       "</table>\n",
       "<p>5000 rows × 15 columns</p>\n",
       "</div>"
      ],
      "text/plain": [
       "      account_length  voice_plan  intl_plan  intl_calls  intl_charge  \\\n",
       "0                128           1          0           3         2.70   \n",
       "1                107           1          0           3         3.70   \n",
       "2                137           0          0           5         3.29   \n",
       "3                 84           0          1           7         1.78   \n",
       "4                 75           0          1           3         2.73   \n",
       "...              ...         ...        ...         ...          ...   \n",
       "4995              50           1          0           5         2.67   \n",
       "4996             152           0          0           2         3.97   \n",
       "4997              61           0          0           4         3.67   \n",
       "4998             109           0          0           6         2.30   \n",
       "4999              86           1          0          16         2.51   \n",
       "\n",
       "      day_calls  day_charge  eve_calls  eve_charge  night_calls  night_charge  \\\n",
       "0           110          45         99       16.78           91         11.01   \n",
       "1           123          27        103       16.62          103         11.45   \n",
       "2           114          41        110       10.30          104          7.32   \n",
       "3            71          50         88        5.26           89          8.86   \n",
       "4           113          28        122       12.61          121          8.41   \n",
       "...         ...         ...        ...         ...          ...           ...   \n",
       "4995        127          40        126       18.96          116         13.39   \n",
       "4996         90          31         73       21.83          113          9.61   \n",
       "4997         89          23        128       14.69           97          9.56   \n",
       "4998         67          32         92       14.59           89         10.10   \n",
       "4999        102          22        104       22.70          100          6.97   \n",
       "\n",
       "      customer_calls  customer_churn  area_code_408  area_code_415  \n",
       "0                  1               0              0              1  \n",
       "1                  1               0              0              1  \n",
       "2                  0               0              0              1  \n",
       "3                  2               0              1              0  \n",
       "4                  3               0              0              1  \n",
       "...              ...             ...            ...            ...  \n",
       "4995               2               0              1              0  \n",
       "4996               3               1              0              1  \n",
       "4997               1               0              0              1  \n",
       "4998               0               0              0              0  \n",
       "4999               0               0              0              1  \n",
       "\n",
       "[5000 rows x 15 columns]"
      ]
     },
     "execution_count": 27,
     "metadata": {},
     "output_type": "execute_result"
    }
   ],
   "source": [
    "df_dummies"
   ]
  },
  {
   "cell_type": "code",
   "execution_count": 28,
   "id": "494dc685",
   "metadata": {},
   "outputs": [],
   "source": [
    "x=df_dummies.drop('customer_churn',axis=1)\n"
   ]
  },
  {
   "cell_type": "code",
   "execution_count": 29,
   "id": "a4575f3a",
   "metadata": {},
   "outputs": [
    {
     "data": {
      "text/html": [
       "<div>\n",
       "<style scoped>\n",
       "    .dataframe tbody tr th:only-of-type {\n",
       "        vertical-align: middle;\n",
       "    }\n",
       "\n",
       "    .dataframe tbody tr th {\n",
       "        vertical-align: top;\n",
       "    }\n",
       "\n",
       "    .dataframe thead th {\n",
       "        text-align: right;\n",
       "    }\n",
       "</style>\n",
       "<table border=\"1\" class=\"dataframe\">\n",
       "  <thead>\n",
       "    <tr style=\"text-align: right;\">\n",
       "      <th></th>\n",
       "      <th>account_length</th>\n",
       "      <th>voice_plan</th>\n",
       "      <th>intl_plan</th>\n",
       "      <th>intl_calls</th>\n",
       "      <th>intl_charge</th>\n",
       "      <th>day_calls</th>\n",
       "      <th>day_charge</th>\n",
       "      <th>eve_calls</th>\n",
       "      <th>eve_charge</th>\n",
       "      <th>night_calls</th>\n",
       "      <th>night_charge</th>\n",
       "      <th>customer_calls</th>\n",
       "      <th>area_code_408</th>\n",
       "      <th>area_code_415</th>\n",
       "    </tr>\n",
       "  </thead>\n",
       "  <tbody>\n",
       "    <tr>\n",
       "      <th>0</th>\n",
       "      <td>128</td>\n",
       "      <td>1</td>\n",
       "      <td>0</td>\n",
       "      <td>3</td>\n",
       "      <td>2.70</td>\n",
       "      <td>110</td>\n",
       "      <td>45</td>\n",
       "      <td>99</td>\n",
       "      <td>16.78</td>\n",
       "      <td>91</td>\n",
       "      <td>11.01</td>\n",
       "      <td>1</td>\n",
       "      <td>0</td>\n",
       "      <td>1</td>\n",
       "    </tr>\n",
       "    <tr>\n",
       "      <th>1</th>\n",
       "      <td>107</td>\n",
       "      <td>1</td>\n",
       "      <td>0</td>\n",
       "      <td>3</td>\n",
       "      <td>3.70</td>\n",
       "      <td>123</td>\n",
       "      <td>27</td>\n",
       "      <td>103</td>\n",
       "      <td>16.62</td>\n",
       "      <td>103</td>\n",
       "      <td>11.45</td>\n",
       "      <td>1</td>\n",
       "      <td>0</td>\n",
       "      <td>1</td>\n",
       "    </tr>\n",
       "    <tr>\n",
       "      <th>2</th>\n",
       "      <td>137</td>\n",
       "      <td>0</td>\n",
       "      <td>0</td>\n",
       "      <td>5</td>\n",
       "      <td>3.29</td>\n",
       "      <td>114</td>\n",
       "      <td>41</td>\n",
       "      <td>110</td>\n",
       "      <td>10.30</td>\n",
       "      <td>104</td>\n",
       "      <td>7.32</td>\n",
       "      <td>0</td>\n",
       "      <td>0</td>\n",
       "      <td>1</td>\n",
       "    </tr>\n",
       "    <tr>\n",
       "      <th>3</th>\n",
       "      <td>84</td>\n",
       "      <td>0</td>\n",
       "      <td>1</td>\n",
       "      <td>7</td>\n",
       "      <td>1.78</td>\n",
       "      <td>71</td>\n",
       "      <td>50</td>\n",
       "      <td>88</td>\n",
       "      <td>5.26</td>\n",
       "      <td>89</td>\n",
       "      <td>8.86</td>\n",
       "      <td>2</td>\n",
       "      <td>1</td>\n",
       "      <td>0</td>\n",
       "    </tr>\n",
       "    <tr>\n",
       "      <th>4</th>\n",
       "      <td>75</td>\n",
       "      <td>0</td>\n",
       "      <td>1</td>\n",
       "      <td>3</td>\n",
       "      <td>2.73</td>\n",
       "      <td>113</td>\n",
       "      <td>28</td>\n",
       "      <td>122</td>\n",
       "      <td>12.61</td>\n",
       "      <td>121</td>\n",
       "      <td>8.41</td>\n",
       "      <td>3</td>\n",
       "      <td>0</td>\n",
       "      <td>1</td>\n",
       "    </tr>\n",
       "    <tr>\n",
       "      <th>...</th>\n",
       "      <td>...</td>\n",
       "      <td>...</td>\n",
       "      <td>...</td>\n",
       "      <td>...</td>\n",
       "      <td>...</td>\n",
       "      <td>...</td>\n",
       "      <td>...</td>\n",
       "      <td>...</td>\n",
       "      <td>...</td>\n",
       "      <td>...</td>\n",
       "      <td>...</td>\n",
       "      <td>...</td>\n",
       "      <td>...</td>\n",
       "      <td>...</td>\n",
       "    </tr>\n",
       "    <tr>\n",
       "      <th>4995</th>\n",
       "      <td>50</td>\n",
       "      <td>1</td>\n",
       "      <td>0</td>\n",
       "      <td>5</td>\n",
       "      <td>2.67</td>\n",
       "      <td>127</td>\n",
       "      <td>40</td>\n",
       "      <td>126</td>\n",
       "      <td>18.96</td>\n",
       "      <td>116</td>\n",
       "      <td>13.39</td>\n",
       "      <td>2</td>\n",
       "      <td>1</td>\n",
       "      <td>0</td>\n",
       "    </tr>\n",
       "    <tr>\n",
       "      <th>4996</th>\n",
       "      <td>152</td>\n",
       "      <td>0</td>\n",
       "      <td>0</td>\n",
       "      <td>2</td>\n",
       "      <td>3.97</td>\n",
       "      <td>90</td>\n",
       "      <td>31</td>\n",
       "      <td>73</td>\n",
       "      <td>21.83</td>\n",
       "      <td>113</td>\n",
       "      <td>9.61</td>\n",
       "      <td>3</td>\n",
       "      <td>0</td>\n",
       "      <td>1</td>\n",
       "    </tr>\n",
       "    <tr>\n",
       "      <th>4997</th>\n",
       "      <td>61</td>\n",
       "      <td>0</td>\n",
       "      <td>0</td>\n",
       "      <td>4</td>\n",
       "      <td>3.67</td>\n",
       "      <td>89</td>\n",
       "      <td>23</td>\n",
       "      <td>128</td>\n",
       "      <td>14.69</td>\n",
       "      <td>97</td>\n",
       "      <td>9.56</td>\n",
       "      <td>1</td>\n",
       "      <td>0</td>\n",
       "      <td>1</td>\n",
       "    </tr>\n",
       "    <tr>\n",
       "      <th>4998</th>\n",
       "      <td>109</td>\n",
       "      <td>0</td>\n",
       "      <td>0</td>\n",
       "      <td>6</td>\n",
       "      <td>2.30</td>\n",
       "      <td>67</td>\n",
       "      <td>32</td>\n",
       "      <td>92</td>\n",
       "      <td>14.59</td>\n",
       "      <td>89</td>\n",
       "      <td>10.10</td>\n",
       "      <td>0</td>\n",
       "      <td>0</td>\n",
       "      <td>0</td>\n",
       "    </tr>\n",
       "    <tr>\n",
       "      <th>4999</th>\n",
       "      <td>86</td>\n",
       "      <td>1</td>\n",
       "      <td>0</td>\n",
       "      <td>16</td>\n",
       "      <td>2.51</td>\n",
       "      <td>102</td>\n",
       "      <td>22</td>\n",
       "      <td>104</td>\n",
       "      <td>22.70</td>\n",
       "      <td>100</td>\n",
       "      <td>6.97</td>\n",
       "      <td>0</td>\n",
       "      <td>0</td>\n",
       "      <td>1</td>\n",
       "    </tr>\n",
       "  </tbody>\n",
       "</table>\n",
       "<p>5000 rows × 14 columns</p>\n",
       "</div>"
      ],
      "text/plain": [
       "      account_length  voice_plan  intl_plan  intl_calls  intl_charge  \\\n",
       "0                128           1          0           3         2.70   \n",
       "1                107           1          0           3         3.70   \n",
       "2                137           0          0           5         3.29   \n",
       "3                 84           0          1           7         1.78   \n",
       "4                 75           0          1           3         2.73   \n",
       "...              ...         ...        ...         ...          ...   \n",
       "4995              50           1          0           5         2.67   \n",
       "4996             152           0          0           2         3.97   \n",
       "4997              61           0          0           4         3.67   \n",
       "4998             109           0          0           6         2.30   \n",
       "4999              86           1          0          16         2.51   \n",
       "\n",
       "      day_calls  day_charge  eve_calls  eve_charge  night_calls  night_charge  \\\n",
       "0           110          45         99       16.78           91         11.01   \n",
       "1           123          27        103       16.62          103         11.45   \n",
       "2           114          41        110       10.30          104          7.32   \n",
       "3            71          50         88        5.26           89          8.86   \n",
       "4           113          28        122       12.61          121          8.41   \n",
       "...         ...         ...        ...         ...          ...           ...   \n",
       "4995        127          40        126       18.96          116         13.39   \n",
       "4996         90          31         73       21.83          113          9.61   \n",
       "4997         89          23        128       14.69           97          9.56   \n",
       "4998         67          32         92       14.59           89         10.10   \n",
       "4999        102          22        104       22.70          100          6.97   \n",
       "\n",
       "      customer_calls  area_code_408  area_code_415  \n",
       "0                  1              0              1  \n",
       "1                  1              0              1  \n",
       "2                  0              0              1  \n",
       "3                  2              1              0  \n",
       "4                  3              0              1  \n",
       "...              ...            ...            ...  \n",
       "4995               2              1              0  \n",
       "4996               3              0              1  \n",
       "4997               1              0              1  \n",
       "4998               0              0              0  \n",
       "4999               0              0              1  \n",
       "\n",
       "[5000 rows x 14 columns]"
      ]
     },
     "execution_count": 29,
     "metadata": {},
     "output_type": "execute_result"
    }
   ],
   "source": [
    "x"
   ]
  },
  {
   "cell_type": "code",
   "execution_count": 30,
   "id": "7a4c77e1",
   "metadata": {},
   "outputs": [
    {
     "data": {
      "text/plain": [
       "Index(['account_length', 'voice_plan', 'intl_plan', 'intl_calls',\n",
       "       'intl_charge', 'day_calls', 'day_charge', 'eve_calls', 'eve_charge',\n",
       "       'night_calls', 'night_charge', 'customer_calls', 'area_code_408',\n",
       "       'area_code_415'],\n",
       "      dtype='object')"
      ]
     },
     "execution_count": 30,
     "metadata": {},
     "output_type": "execute_result"
    }
   ],
   "source": [
    "x.columns"
   ]
  },
  {
   "cell_type": "code",
   "execution_count": 31,
   "id": "bbfe873a",
   "metadata": {},
   "outputs": [
    {
     "data": {
      "text/plain": [
       "0       0\n",
       "1       0\n",
       "2       0\n",
       "3       0\n",
       "4       0\n",
       "       ..\n",
       "4995    0\n",
       "4996    1\n",
       "4997    0\n",
       "4998    0\n",
       "4999    0\n",
       "Name: customer_churn, Length: 5000, dtype: int64"
      ]
     },
     "execution_count": 31,
     "metadata": {},
     "output_type": "execute_result"
    }
   ],
   "source": [
    "y=df_dummies.customer_churn\n",
    "y"
   ]
  },
  {
   "cell_type": "code",
   "execution_count": 32,
   "id": "9fc08a18",
   "metadata": {
    "scrolled": true
   },
   "outputs": [
    {
     "data": {
      "text/plain": [
       "<AxesSubplot:xlabel='customer_churn', ylabel='count'>"
      ]
     },
     "execution_count": 32,
     "metadata": {},
     "output_type": "execute_result"
    },
    {
     "data": {
      "image/png": "[encoded data removed]",
      "text/plain": [
       "<Figure size 640x480 with 1 Axes>"
      ]
     },
     "metadata": {},
     "output_type": "display_data"
    }
   ],
   "source": [
    "#balance y variable\n",
    "sns.countplot(x='customer_churn',data=df_dummies)"
   ]
  },
  {
   "cell_type": "code",
   "execution_count": 33,
   "id": "5e21bf0e",
   "metadata": {},
   "outputs": [
    {
     "data": {
      "text/plain": [
       "((5000, 14), (5000,))"
      ]
     },
     "execution_count": 33,
     "metadata": {},
     "output_type": "execute_result"
    }
   ],
   "source": [
    "x.shape,y.shape"
   ]
  },
  {
   "cell_type": "code",
   "execution_count": 34,
   "id": "8f995701",
   "metadata": {},
   "outputs": [],
   "source": [
    "from imblearn.over_sampling import RandomOverSampler"
   ]
  },
  {
   "cell_type": "code",
   "execution_count": 35,
   "id": "61e96e16",
   "metadata": {},
   "outputs": [],
   "source": [
    "ros=RandomOverSampler(random_state=2529)"
   ]
  },
  {
   "cell_type": "code",
   "execution_count": 36,
   "id": "8a4d546c",
   "metadata": {},
   "outputs": [],
   "source": [
    "x_ros,y_ros=ros.fit_resample(x,y)\n"
   ]
  },
  {
   "cell_type": "code",
   "execution_count": 37,
   "id": "4aecd048",
   "metadata": {},
   "outputs": [
    {
     "data": {
      "text/plain": [
       "((8586, 14), (8586,), (5000, 14), (5000,))"
      ]
     },
     "execution_count": 37,
     "metadata": {},
     "output_type": "execute_result"
    }
   ],
   "source": [
    "x_ros.shape,y_ros.shape,x.shape,y.shape"
   ]
  },
  {
   "cell_type": "code",
   "execution_count": 38,
   "id": "a3308922",
   "metadata": {},
   "outputs": [
    {
     "data": {
      "text/plain": [
       "0    4293\n",
       "1     707\n",
       "Name: customer_churn, dtype: int64"
      ]
     },
     "execution_count": 38,
     "metadata": {},
     "output_type": "execute_result"
    }
   ],
   "source": [
    "y.value_counts()"
   ]
  },
  {
   "cell_type": "code",
   "execution_count": 39,
   "id": "07855642",
   "metadata": {},
   "outputs": [
    {
     "data": {
      "text/plain": [
       "Index(['account_length', 'voice_plan', 'intl_plan', 'intl_calls',\n",
       "       'intl_charge', 'day_calls', 'day_charge', 'eve_calls', 'eve_charge',\n",
       "       'night_calls', 'night_charge', 'customer_calls', 'area_code_408',\n",
       "       'area_code_415'],\n",
       "      dtype='object')"
      ]
     },
     "execution_count": 39,
     "metadata": {},
     "output_type": "execute_result"
    }
   ],
   "source": [
    "x_ros.columns"
   ]
  },
  {
   "cell_type": "code",
   "execution_count": 40,
   "id": "8328c4aa",
   "metadata": {},
   "outputs": [
    {
     "data": {
      "text/html": [
       "<div>\n",
       "<style scoped>\n",
       "    .dataframe tbody tr th:only-of-type {\n",
       "        vertical-align: middle;\n",
       "    }\n",
       "\n",
       "    .dataframe tbody tr th {\n",
       "        vertical-align: top;\n",
       "    }\n",
       "\n",
       "    .dataframe thead th {\n",
       "        text-align: right;\n",
       "    }\n",
       "</style>\n",
       "<table border=\"1\" class=\"dataframe\">\n",
       "  <thead>\n",
       "    <tr style=\"text-align: right;\">\n",
       "      <th></th>\n",
       "      <th>account_length</th>\n",
       "      <th>voice_plan</th>\n",
       "      <th>intl_plan</th>\n",
       "      <th>intl_calls</th>\n",
       "      <th>intl_charge</th>\n",
       "      <th>day_calls</th>\n",
       "      <th>day_charge</th>\n",
       "      <th>eve_calls</th>\n",
       "      <th>eve_charge</th>\n",
       "      <th>night_calls</th>\n",
       "      <th>night_charge</th>\n",
       "      <th>customer_calls</th>\n",
       "      <th>area_code_408</th>\n",
       "      <th>area_code_415</th>\n",
       "    </tr>\n",
       "  </thead>\n",
       "  <tbody>\n",
       "    <tr>\n",
       "      <th>count</th>\n",
       "      <td>8586.000000</td>\n",
       "      <td>8586.000000</td>\n",
       "      <td>8586.000000</td>\n",
       "      <td>8586.000000</td>\n",
       "      <td>8586.000000</td>\n",
       "      <td>8586.000000</td>\n",
       "      <td>8586.000000</td>\n",
       "      <td>8586.000000</td>\n",
       "      <td>8586.000000</td>\n",
       "      <td>8586.000000</td>\n",
       "      <td>8586.000000</td>\n",
       "      <td>8586.000000</td>\n",
       "      <td>8586.000000</td>\n",
       "      <td>8586.000000</td>\n",
       "    </tr>\n",
       "    <tr>\n",
       "      <th>mean</th>\n",
       "      <td>101.090030</td>\n",
       "      <td>0.212439</td>\n",
       "      <td>0.173305</td>\n",
       "      <td>4.337293</td>\n",
       "      <td>2.823238</td>\n",
       "      <td>100.135337</td>\n",
       "      <td>32.289774</td>\n",
       "      <td>100.138947</td>\n",
       "      <td>17.465191</td>\n",
       "      <td>99.841836</td>\n",
       "      <td>9.126201</td>\n",
       "      <td>1.846611</td>\n",
       "      <td>0.250524</td>\n",
       "      <td>0.495341</td>\n",
       "    </tr>\n",
       "    <tr>\n",
       "      <th>std</th>\n",
       "      <td>39.965689</td>\n",
       "      <td>0.409058</td>\n",
       "      <td>0.378533</td>\n",
       "      <td>2.509555</td>\n",
       "      <td>0.747662</td>\n",
       "      <td>20.101840</td>\n",
       "      <td>10.590614</td>\n",
       "      <td>19.840327</td>\n",
       "      <td>4.366529</td>\n",
       "      <td>20.121024</td>\n",
       "      <td>2.252996</td>\n",
       "      <td>1.574365</td>\n",
       "      <td>0.433340</td>\n",
       "      <td>0.500007</td>\n",
       "    </tr>\n",
       "    <tr>\n",
       "      <th>min</th>\n",
       "      <td>1.000000</td>\n",
       "      <td>0.000000</td>\n",
       "      <td>0.000000</td>\n",
       "      <td>0.000000</td>\n",
       "      <td>0.000000</td>\n",
       "      <td>0.000000</td>\n",
       "      <td>0.000000</td>\n",
       "      <td>0.000000</td>\n",
       "      <td>0.000000</td>\n",
       "      <td>0.000000</td>\n",
       "      <td>0.000000</td>\n",
       "      <td>0.000000</td>\n",
       "      <td>0.000000</td>\n",
       "      <td>0.000000</td>\n",
       "    </tr>\n",
       "    <tr>\n",
       "      <th>25%</th>\n",
       "      <td>74.000000</td>\n",
       "      <td>0.000000</td>\n",
       "      <td>0.000000</td>\n",
       "      <td>3.000000</td>\n",
       "      <td>2.350000</td>\n",
       "      <td>87.000000</td>\n",
       "      <td>25.000000</td>\n",
       "      <td>87.000000</td>\n",
       "      <td>14.440000</td>\n",
       "      <td>86.000000</td>\n",
       "      <td>7.620000</td>\n",
       "      <td>1.000000</td>\n",
       "      <td>0.000000</td>\n",
       "      <td>0.000000</td>\n",
       "    </tr>\n",
       "    <tr>\n",
       "      <th>50%</th>\n",
       "      <td>101.000000</td>\n",
       "      <td>0.000000</td>\n",
       "      <td>0.000000</td>\n",
       "      <td>4.000000</td>\n",
       "      <td>2.840000</td>\n",
       "      <td>100.000000</td>\n",
       "      <td>32.000000</td>\n",
       "      <td>100.000000</td>\n",
       "      <td>17.600000</td>\n",
       "      <td>100.000000</td>\n",
       "      <td>9.150000</td>\n",
       "      <td>1.000000</td>\n",
       "      <td>0.000000</td>\n",
       "      <td>0.000000</td>\n",
       "    </tr>\n",
       "    <tr>\n",
       "      <th>75%</th>\n",
       "      <td>127.000000</td>\n",
       "      <td>0.000000</td>\n",
       "      <td>0.000000</td>\n",
       "      <td>6.000000</td>\n",
       "      <td>3.320000</td>\n",
       "      <td>113.000000</td>\n",
       "      <td>40.000000</td>\n",
       "      <td>114.000000</td>\n",
       "      <td>20.460000</td>\n",
       "      <td>114.000000</td>\n",
       "      <td>10.700000</td>\n",
       "      <td>3.000000</td>\n",
       "      <td>1.000000</td>\n",
       "      <td>1.000000</td>\n",
       "    </tr>\n",
       "    <tr>\n",
       "      <th>max</th>\n",
       "      <td>243.000000</td>\n",
       "      <td>1.000000</td>\n",
       "      <td>1.000000</td>\n",
       "      <td>20.000000</td>\n",
       "      <td>5.400000</td>\n",
       "      <td>165.000000</td>\n",
       "      <td>59.000000</td>\n",
       "      <td>170.000000</td>\n",
       "      <td>30.910000</td>\n",
       "      <td>175.000000</td>\n",
       "      <td>17.770000</td>\n",
       "      <td>9.000000</td>\n",
       "      <td>1.000000</td>\n",
       "      <td>1.000000</td>\n",
       "    </tr>\n",
       "  </tbody>\n",
       "</table>\n",
       "</div>"
      ],
      "text/plain": [
       "       account_length   voice_plan    intl_plan   intl_calls  intl_charge  \\\n",
       "count     8586.000000  8586.000000  8586.000000  8586.000000  8586.000000   \n",
       "mean       101.090030     0.212439     0.173305     4.337293     2.823238   \n",
       "std         39.965689     0.409058     0.378533     2.509555     0.747662   \n",
       "min          1.000000     0.000000     0.000000     0.000000     0.000000   \n",
       "25%         74.000000     0.000000     0.000000     3.000000     2.350000   \n",
       "50%        101.000000     0.000000     0.000000     4.000000     2.840000   \n",
       "75%        127.000000     0.000000     0.000000     6.000000     3.320000   \n",
       "max        243.000000     1.000000     1.000000    20.000000     5.400000   \n",
       "\n",
       "         day_calls   day_charge    eve_calls   eve_charge  night_calls  \\\n",
       "count  8586.000000  8586.000000  8586.000000  8586.000000  8586.000000   \n",
       "mean    100.135337    32.289774   100.138947    17.465191    99.841836   \n",
       "std      20.101840    10.590614    19.840327     4.366529    20.121024   \n",
       "min       0.000000     0.000000     0.000000     0.000000     0.000000   \n",
       "25%      87.000000    25.000000    87.000000    14.440000    86.000000   \n",
       "50%     100.000000    32.000000   100.000000    17.600000   100.000000   \n",
       "75%     113.000000    40.000000   114.000000    20.460000   114.000000   \n",
       "max     165.000000    59.000000   170.000000    30.910000   175.000000   \n",
       "\n",
       "       night_charge  customer_calls  area_code_408  area_code_415  \n",
       "count   8586.000000     8586.000000    8586.000000    8586.000000  \n",
       "mean       9.126201        1.846611       0.250524       0.495341  \n",
       "std        2.252996        1.574365       0.433340       0.500007  \n",
       "min        0.000000        0.000000       0.000000       0.000000  \n",
       "25%        7.620000        1.000000       0.000000       0.000000  \n",
       "50%        9.150000        1.000000       0.000000       0.000000  \n",
       "75%       10.700000        3.000000       1.000000       1.000000  \n",
       "max       17.770000        9.000000       1.000000       1.000000  "
      ]
     },
     "execution_count": 40,
     "metadata": {},
     "output_type": "execute_result"
    }
   ],
   "source": [
    "x_ros.describe()"
   ]
  },
  {
   "cell_type": "code",
   "execution_count": 41,
   "id": "ef973c47",
   "metadata": {},
   "outputs": [
    {
     "data": {
      "text/plain": [
       "0    4293\n",
       "1    4293\n",
       "Name: customer_churn, dtype: int64"
      ]
     },
     "execution_count": 41,
     "metadata": {},
     "output_type": "execute_result"
    }
   ],
   "source": [
    "y_ros.value_counts()"
   ]
  },
  {
   "cell_type": "code",
   "execution_count": 42,
   "id": "2a78bbce",
   "metadata": {},
   "outputs": [
    {
     "data": {
      "text/plain": [
       "<AxesSubplot:ylabel='Frequency'>"
      ]
     },
     "execution_count": 42,
     "metadata": {},
     "output_type": "execute_result"
    },
    {
     "data": {
      "image/png": "[encoded data removed]",
      "text/plain": [
       "<Figure size 640x480 with 1 Axes>"
      ]
     },
     "metadata": {},
     "output_type": "display_data"
    }
   ],
   "source": [
    "y_ros.plot(kind='hist')"
   ]
  },
  {
   "cell_type": "markdown",
   "id": "8db0fc16",
   "metadata": {},
   "source": []
  },
  {
   "cell_type": "code",
   "execution_count": 43,
   "id": "d249a35d",
   "metadata": {},
   "outputs": [
    {
     "data": {
      "text/plain": [
       "ExtraTreesRegressor()"
      ]
     },
     "execution_count": 43,
     "metadata": {},
     "output_type": "execute_result"
    }
   ],
   "source": [
    "#imp feature using extratreesregressor\n",
    "import sklearn\n",
    "from sklearn.ensemble import ExtraTreesRegressor\n",
    "selection=ExtraTreesRegressor()\n",
    "selection.fit(x_ros,y_ros)"
   ]
  },
  {
   "cell_type": "code",
   "execution_count": 44,
   "id": "8a7df099",
   "metadata": {},
   "outputs": [
    {
     "name": "stdout",
     "output_type": "stream",
     "text": [
      "[0.03450416 0.04531758 0.09041252 0.05811344 0.05052895 0.03552326\n",
      " 0.2660464  0.03141237 0.09935003 0.03258074 0.05090278 0.17905587\n",
      " 0.01204289 0.01420899]\n"
     ]
    }
   ],
   "source": [
    "print(selection.feature_importances_)"
   ]
  },
  {
   "cell_type": "code",
   "execution_count": 45,
   "id": "bbccebe4",
   "metadata": {},
   "outputs": [
    {
     "data": {
      "image/png": "[encoded data removed]",
      "text/plain": [
       "<Figure size 1200x800 with 1 Axes>"
      ]
     },
     "metadata": {},
     "output_type": "display_data"
    }
   ],
   "source": [
    "plt.figure(figsize=(12,8))\n",
    "feat_importances=pd.Series(selection.feature_importances_,index=x.columns)\n",
    "feat_importances.nlargest(20).plot(kind='barh')\n",
    "plt.show()"
   ]
  },
  {
   "cell_type": "code",
   "execution_count": null,
   "id": "46943e95",
   "metadata": {},
   "outputs": [],
   "source": []
  },
  {
   "cell_type": "markdown",
   "id": "d8495f86",
   "metadata": {},
   "source": [
    "# Model Training"
   ]
  },
  {
   "cell_type": "code",
   "execution_count": 46,
   "id": "495f2423",
   "metadata": {},
   "outputs": [],
   "source": [
    "from sklearn.model_selection import train_test_split\n",
    "x_ros_train,x_ros_test,y_ros_train,y_ros_test =train_test_split(x_ros,y_ros, test_size =0.3, random_state=42)"
   ]
  },
  {
   "cell_type": "code",
   "execution_count": 47,
   "id": "6a927da1",
   "metadata": {},
   "outputs": [
    {
     "data": {
      "text/plain": [
       "RandomForestClassifier()"
      ]
     },
     "execution_count": 47,
     "metadata": {},
     "output_type": "execute_result"
    }
   ],
   "source": [
    "#random forest\n",
    "from sklearn.ensemble import RandomForestClassifier\n",
    "rf=RandomForestClassifier()\n",
    "rf.fit(x_ros_train,y_ros_train)"
   ]
  },
  {
   "cell_type": "code",
   "execution_count": 48,
   "id": "ccc55c5f",
   "metadata": {},
   "outputs": [
    {
     "name": "stdout",
     "output_type": "stream",
     "text": [
      "training accuracy is: 1.0\n"
     ]
    }
   ],
   "source": [
    "#checking training accuracy\n",
    "print(\"training accuracy is:\",rf.score(x_ros_train,y_ros_train))"
   ]
  },
  {
   "cell_type": "code",
   "execution_count": 49,
   "id": "91a25169",
   "metadata": {},
   "outputs": [
    {
     "name": "stdout",
     "output_type": "stream",
     "text": [
      "testing accuracy is: 99.22360248447205\n"
     ]
    }
   ],
   "source": [
    "#checking accuracy of test dataset\n",
    "\n",
    "print(\"testing accuracy is:\",rf.score(x_ros_test,y_ros_test)*100)\n"
   ]
  },
  {
   "cell_type": "code",
   "execution_count": 50,
   "id": "f44893ec",
   "metadata": {},
   "outputs": [
    {
     "data": {
      "text/plain": [
       "DecisionTreeClassifier()"
      ]
     },
     "execution_count": 50,
     "metadata": {},
     "output_type": "execute_result"
    }
   ],
   "source": [
    "#decision tree\n",
    "from sklearn.tree import DecisionTreeClassifier\n",
    "model=DecisionTreeClassifier()\n",
    "model.fit(x_ros_train,y_ros_train)"
   ]
  },
  {
   "cell_type": "code",
   "execution_count": 51,
   "id": "25c2994a",
   "metadata": {},
   "outputs": [
    {
     "name": "stdout",
     "output_type": "stream",
     "text": [
      "testing accuracy is: 96.8167701863354\n"
     ]
    }
   ],
   "source": [
    "#checking accuracy of test dataset\n",
    "print(\"testing accuracy is:\",model.score(x_ros_test,y_ros_test)*100)\n"
   ]
  },
  {
   "cell_type": "code",
   "execution_count": 52,
   "id": "5df17a91",
   "metadata": {},
   "outputs": [],
   "source": [
    "#XGboost  Classifier\n",
    "\n",
    "import xgboost as xg\n",
    "from xgboost import XGBClassifier\n",
    "xg=XGBClassifier(objective='binary:logistic')\n",
    "xg.fit(x_ros_train,y_ros_train)\n",
    "y_pred=xg.predict(x_ros_test)\n"
   ]
  },
  {
   "cell_type": "code",
   "execution_count": 53,
   "id": "27fb3da5",
   "metadata": {},
   "outputs": [
    {
     "name": "stdout",
     "output_type": "stream",
     "text": [
      "testing accuracy is: 99.22360248447205\n"
     ]
    }
   ],
   "source": [
    "#checking accuracy of test dataset\n",
    "print(\"testing accuracy is:\",xg.score(x_ros_test,y_ros_test)*100)\n",
    "\n"
   ]
  },
  {
   "cell_type": "code",
   "execution_count": null,
   "id": "ea6e9400",
   "metadata": {},
   "outputs": [],
   "source": []
  },
  {
   "cell_type": "markdown",
   "id": "f4029584",
   "metadata": {},
   "source": [
    "# Hyperparameter Tuning"
   ]
  },
  {
   "cell_type": "code",
   "execution_count": 54,
   "id": "62f1aa75",
   "metadata": {},
   "outputs": [],
   "source": [
    "from sklearn.model_selection import RandomizedSearchCV"
   ]
  },
  {
   "cell_type": "code",
   "execution_count": 55,
   "id": "f7d4bdca",
   "metadata": {},
   "outputs": [],
   "source": [
    "param_grid={\n",
    "    'learning_rate':[1,0.5,0.1,0.01],\n",
    "    'max_depth':[3,5,10,20],\n",
    "    'n_estimators':[10,50,100,200]\n",
    "\n",
    "\n",
    "}"
   ]
  },
  {
   "cell_type": "code",
   "execution_count": 56,
   "id": "84ac5c9c",
   "metadata": {},
   "outputs": [],
   "source": [
    "grid=RandomizedSearchCV(XGBClassifier(objective='binary:logistic'),param_grid,verbose=3)"
   ]
  },
  {
   "cell_type": "code",
   "execution_count": 57,
   "id": "ed9bb13d",
   "metadata": {},
   "outputs": [
    {
     "name": "stdout",
     "output_type": "stream",
     "text": [
      "Fitting 5 folds for each of 10 candidates, totalling 50 fits\n",
      "[CV 1/5] END learning_rate=0.01, max_depth=20, n_estimators=100;, score=0.971 total time=   1.2s\n",
      "[CV 2/5] END learning_rate=0.01, max_depth=20, n_estimators=100;, score=0.965 total time=   1.1s\n",
      "[CV 3/5] END learning_rate=0.01, max_depth=20, n_estimators=100;, score=0.955 total time=   1.1s\n",
      "[CV 4/5] END learning_rate=0.01, max_depth=20, n_estimators=100;, score=0.961 total time=   1.2s\n",
      "[CV 5/5] END learning_rate=0.01, max_depth=20, n_estimators=100;, score=0.953 total time=   1.2s\n",
      "[CV 1/5] END learning_rate=0.01, max_depth=10, n_estimators=10;, score=0.926 total time=   0.0s\n",
      "[CV 2/5] END learning_rate=0.01, max_depth=10, n_estimators=10;, score=0.919 total time=   0.0s\n",
      "[CV 3/5] END learning_rate=0.01, max_depth=10, n_estimators=10;, score=0.934 total time=   0.0s\n",
      "[CV 4/5] END learning_rate=0.01, max_depth=10, n_estimators=10;, score=0.929 total time=   0.0s\n",
      "[CV 5/5] END learning_rate=0.01, max_depth=10, n_estimators=10;, score=0.928 total time=   0.0s\n",
      "[CV 1/5] END learning_rate=0.5, max_depth=20, n_estimators=100;, score=0.987 total time=   0.5s\n",
      "[CV 2/5] END learning_rate=0.5, max_depth=20, n_estimators=100;, score=0.988 total time=   0.6s\n",
      "[CV 3/5] END learning_rate=0.5, max_depth=20, n_estimators=100;, score=0.983 total time=   0.7s\n",
      "[CV 4/5] END learning_rate=0.5, max_depth=20, n_estimators=100;, score=0.984 total time=   0.7s\n",
      "[CV 5/5] END learning_rate=0.5, max_depth=20, n_estimators=100;, score=0.983 total time=   0.7s\n",
      "[CV 1/5] END learning_rate=0.5, max_depth=10, n_estimators=10;, score=0.977 total time=   0.0s\n",
      "[CV 2/5] END learning_rate=0.5, max_depth=10, n_estimators=10;, score=0.976 total time=   0.0s\n",
      "[CV 3/5] END learning_rate=0.5, max_depth=10, n_estimators=10;, score=0.973 total time=   0.0s\n",
      "[CV 4/5] END learning_rate=0.5, max_depth=10, n_estimators=10;, score=0.968 total time=   0.0s\n",
      "[CV 5/5] END learning_rate=0.5, max_depth=10, n_estimators=10;, score=0.963 total time=   0.0s\n",
      "[CV 1/5] END learning_rate=1, max_depth=20, n_estimators=200;, score=0.988 total time=   0.6s\n",
      "[CV 2/5] END learning_rate=1, max_depth=20, n_estimators=200;, score=0.981 total time=   0.6s\n",
      "[CV 3/5] END learning_rate=1, max_depth=20, n_estimators=200;, score=0.984 total time=   0.6s\n",
      "[CV 4/5] END learning_rate=1, max_depth=20, n_estimators=200;, score=0.981 total time=   0.6s\n",
      "[CV 5/5] END learning_rate=1, max_depth=20, n_estimators=200;, score=0.987 total time=   0.7s\n",
      "[CV 1/5] END learning_rate=1, max_depth=3, n_estimators=100;, score=0.972 total time=   0.2s\n",
      "[CV 2/5] END learning_rate=1, max_depth=3, n_estimators=100;, score=0.967 total time=   0.1s\n",
      "[CV 3/5] END learning_rate=1, max_depth=3, n_estimators=100;, score=0.969 total time=   0.1s\n",
      "[CV 4/5] END learning_rate=1, max_depth=3, n_estimators=100;, score=0.973 total time=   0.2s\n",
      "[CV 5/5] END learning_rate=1, max_depth=3, n_estimators=100;, score=0.970 total time=   0.2s\n",
      "[CV 1/5] END learning_rate=1, max_depth=5, n_estimators=200;, score=0.983 total time=   0.5s\n",
      "[CV 2/5] END learning_rate=1, max_depth=5, n_estimators=200;, score=0.978 total time=   0.5s\n",
      "[CV 3/5] END learning_rate=1, max_depth=5, n_estimators=200;, score=0.979 total time=   0.5s\n",
      "[CV 4/5] END learning_rate=1, max_depth=5, n_estimators=200;, score=0.980 total time=   0.5s\n",
      "[CV 5/5] END learning_rate=1, max_depth=5, n_estimators=200;, score=0.981 total time=   0.5s\n",
      "[CV 1/5] END learning_rate=0.01, max_depth=3, n_estimators=50;, score=0.855 total time=   0.0s\n",
      "[CV 2/5] END learning_rate=0.01, max_depth=3, n_estimators=50;, score=0.811 total time=   0.0s\n",
      "[CV 3/5] END learning_rate=0.01, max_depth=3, n_estimators=50;, score=0.845 total time=   0.0s\n",
      "[CV 4/5] END learning_rate=0.01, max_depth=3, n_estimators=50;, score=0.839 total time=   0.0s\n",
      "[CV 5/5] END learning_rate=0.01, max_depth=3, n_estimators=50;, score=0.854 total time=   0.0s\n",
      "[CV 1/5] END learning_rate=1, max_depth=10, n_estimators=200;, score=0.983 total time=   0.6s\n",
      "[CV 2/5] END learning_rate=1, max_depth=10, n_estimators=200;, score=0.982 total time=   0.6s\n",
      "[CV 3/5] END learning_rate=1, max_depth=10, n_estimators=200;, score=0.985 total time=   0.6s\n",
      "[CV 4/5] END learning_rate=1, max_depth=10, n_estimators=200;, score=0.983 total time=   0.6s\n",
      "[CV 5/5] END learning_rate=1, max_depth=10, n_estimators=200;, score=0.981 total time=   0.6s\n",
      "[CV 1/5] END learning_rate=0.01, max_depth=3, n_estimators=10;, score=0.837 total time=   0.0s\n",
      "[CV 2/5] END learning_rate=0.01, max_depth=3, n_estimators=10;, score=0.811 total time=   0.0s\n",
      "[CV 3/5] END learning_rate=0.01, max_depth=3, n_estimators=10;, score=0.842 total time=   0.0s\n",
      "[CV 4/5] END learning_rate=0.01, max_depth=3, n_estimators=10;, score=0.819 total time=   0.0s\n",
      "[CV 5/5] END learning_rate=0.01, max_depth=3, n_estimators=10;, score=0.835 total time=   0.0s\n"
     ]
    },
    {
     "data": {
      "text/plain": [
       "RandomizedSearchCV(estimator=XGBClassifier(base_score=None, booster=None,\n",
       "                                           callbacks=None,\n",
       "                                           colsample_bylevel=None,\n",
       "                                           colsample_bynode=None,\n",
       "                                           colsample_bytree=None,\n",
       "                                           early_stopping_rounds=None,\n",
       "                                           enable_categorical=False,\n",
       "                                           eval_metric=None, feature_types=None,\n",
       "                                           gamma=None, gpu_id=None,\n",
       "                                           grow_policy=None,\n",
       "                                           importance_type=None,\n",
       "                                           interaction_constraints=None,\n",
       "                                           learning_rate=None...\n",
       "                                           max_cat_threshold=None,\n",
       "                                           max_cat_to_onehot=None,\n",
       "                                           max_delta_step=None, max_depth=None,\n",
       "                                           max_leaves=None,\n",
       "                                           min_child_weight=None, missing=nan,\n",
       "                                           monotone_constraints=None,\n",
       "                                           n_estimators=100, n_jobs=None,\n",
       "                                           num_parallel_tree=None,\n",
       "                                           predictor=None, random_state=None, ...),\n",
       "                   param_distributions={'learning_rate': [1, 0.5, 0.1, 0.01],\n",
       "                                        'max_depth': [3, 5, 10, 20],\n",
       "                                        'n_estimators': [10, 50, 100, 200]},\n",
       "                   verbose=3)"
      ]
     },
     "execution_count": 57,
     "metadata": {},
     "output_type": "execute_result"
    }
   ],
   "source": [
    "grid.fit(x_ros_train,y_ros_train)"
   ]
  },
  {
   "cell_type": "code",
   "execution_count": 58,
   "id": "32d26d19",
   "metadata": {},
   "outputs": [
    {
     "data": {
      "text/plain": [
       "{'n_estimators': 100, 'max_depth': 20, 'learning_rate': 0.5}"
      ]
     },
     "execution_count": 58,
     "metadata": {},
     "output_type": "execute_result"
    }
   ],
   "source": [
    "grid.best_params_"
   ]
  },
  {
   "cell_type": "code",
   "execution_count": 59,
   "id": "20045d78",
   "metadata": {},
   "outputs": [],
   "source": [
    "xg=XGBClassifier(n_estimators = 200, max_depth = 10, learning_rate = 0.5)\n",
    "xg.fit(x_ros_train,y_ros_train)\n",
    "y_pred=xg.predict(x_ros_test)\n"
   ]
  },
  {
   "cell_type": "code",
   "execution_count": 60,
   "id": "494fbf97",
   "metadata": {},
   "outputs": [
    {
     "name": "stdout",
     "output_type": "stream",
     "text": [
      "testing accuracy is: 99.30124223602485\n"
     ]
    }
   ],
   "source": [
    "#checking accuracy of test dataset\n",
    "\n",
    "print(\"testing accuracy is:\",xg.score(x_ros_test,y_ros_test)*100)\n"
   ]
  },
  {
   "cell_type": "markdown",
   "id": "0aa60c74",
   "metadata": {},
   "source": [
    "# Model Validation"
   ]
  },
  {
   "cell_type": "code",
   "execution_count": 61,
   "id": "7b9fbfca",
   "metadata": {},
   "outputs": [
    {
     "name": "stdout",
     "output_type": "stream",
     "text": [
      "[[1282   17]\n",
      " [   1 1276]]\n"
     ]
    }
   ],
   "source": [
    "from sklearn.metrics import confusion_matrix\n",
    "\n",
    "cm= confusion_matrix(y_ros_test,y_pred) \n",
    "print(cm)"
   ]
  },
  {
   "cell_type": "code",
   "execution_count": 62,
   "id": "10bcd091",
   "metadata": {},
   "outputs": [
    {
     "data": {
      "text/plain": [
       "99.30124223602485"
      ]
     },
     "execution_count": 62,
     "metadata": {},
     "output_type": "execute_result"
    }
   ],
   "source": [
    "((1282+1276)/(1282+17+1+1276))*100"
   ]
  },
  {
   "cell_type": "code",
   "execution_count": 63,
   "id": "e1a5d928",
   "metadata": {},
   "outputs": [],
   "source": [
    "from sklearn.metrics import confusion_matrix,classification_report\n"
   ]
  },
  {
   "cell_type": "code",
   "execution_count": 64,
   "id": "72a99f36",
   "metadata": {},
   "outputs": [
    {
     "name": "stdout",
     "output_type": "stream",
     "text": [
      "              precision    recall  f1-score   support\n",
      "\n",
      "           0       1.00      0.99      0.99      1299\n",
      "           1       0.99      1.00      0.99      1277\n",
      "\n",
      "    accuracy                           0.99      2576\n",
      "   macro avg       0.99      0.99      0.99      2576\n",
      "weighted avg       0.99      0.99      0.99      2576\n",
      "\n"
     ]
    }
   ],
   "source": [
    "print(classification_report(y_ros_test,y_pred))"
   ]
  },
  {
   "cell_type": "markdown",
   "id": "53427c54",
   "metadata": {},
   "source": [
    "# Save Model"
   ]
  },
  {
   "cell_type": "code",
   "execution_count": 65,
   "id": "f844a068",
   "metadata": {},
   "outputs": [],
   "source": [
    "import pickle\n",
    "file='model.sav'\n",
    "pickle.dump(xg,open(file,'wb'))"
   ]
  },
  {
   "cell_type": "code",
   "execution_count": 66,
   "id": "7056d468",
   "metadata": {},
   "outputs": [],
   "source": [
    "load_model = pickle.load(open('model.sav','rb'))"
   ]
  },
  {
   "cell_type": "code",
   "execution_count": 67,
   "id": "e8bc2fa6",
   "metadata": {},
   "outputs": [],
   "source": [
    "y_pred = load_model.predict(x_ros_test)"
   ]
  },
  {
   "cell_type": "code",
   "execution_count": 68,
   "id": "c44726a5",
   "metadata": {},
   "outputs": [
    {
     "data": {
      "text/plain": [
       "array([0, 0, 1, ..., 0, 1, 0])"
      ]
     },
     "execution_count": 68,
     "metadata": {},
     "output_type": "execute_result"
    }
   ],
   "source": [
    "y_pred\n"
   ]
  },
  {
   "cell_type": "code",
   "execution_count": 69,
   "id": "0111a4c5",
   "metadata": {},
   "outputs": [
    {
     "data": {
      "text/plain": [
       "1"
      ]
     },
     "execution_count": 69,
     "metadata": {},
     "output_type": "execute_result"
    }
   ],
   "source": [
    "y_pred[100]"
   ]
  },
  {
   "cell_type": "code",
   "execution_count": null,
   "id": "b202a136",
   "metadata": {},
   "outputs": [],
   "source": []
  },
  {
   "cell_type": "code",
   "execution_count": null,
   "id": "b8caf95d",
   "metadata": {},
   "outputs": [],
   "source": []
  }
 ],
 "metadata": {
  "kernelspec": {
   "display_name": "Python 3 (ipykernel)",
   "language": "python",
   "name": "python3"
  },
  "language_info": {
   "codemirror_mode": {
    "name": "ipython",
    "version": 3
   },
   "file_extension": ".py",
   "mimetype": "text/x-python",
   "name": "python",
   "nbconvert_exporter": "python",
   "pygments_lexer": "ipython3",
   "version": "3.9.13"
  }
 },
 "nbformat": 4,
 "nbformat_minor": 5
}
